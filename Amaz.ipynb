{
  "nbformat": 4,
  "nbformat_minor": 0,
  "metadata": {
    "colab": {
      "provenance": [],
      "authorship_tag": "ABX9TyMp8a0o5kUG1ktAInDi2puf",
      "include_colab_link": true
    },
    "kernelspec": {
      "name": "python3",
      "display_name": "Python 3"
    },
    "language_info": {
      "name": "python"
    }
  },
  "cells": [
    {
      "cell_type": "markdown",
      "metadata": {
        "id": "view-in-github",
        "colab_type": "text"
      },
      "source": [
        "<a href=\"https://colab.research.google.com/github/peteray-dev/Vectorization_sleepdt/blob/master/Amaz.ipynb\" target=\"_parent\"><img src=\"https://colab.research.google.com/assets/colab-badge.svg\" alt=\"Open In Colab\"/></a>"
      ]
    },
    {
      "cell_type": "code",
      "execution_count": 2,
      "metadata": {
        "colab": {
          "base_uri": "https://localhost:8080/"
        },
        "id": "rYCMR3L0nAlB",
        "outputId": "89308cd6-70ba-4a5f-ecd5-234d76cbf019"
      },
      "outputs": [
        {
          "output_type": "stream",
          "name": "stdout",
          "text": [
            "4\n"
          ]
        }
      ],
      "source": [
        "# Python code to find the largest substring with\n",
        "# non-repeating characters using Sliding Window\n",
        "\n",
        "def longestUniqueSubstr(s):\n",
        "\n",
        "    # if string length is 0\n",
        "    if len(s) == 0:\n",
        "        return 0\n",
        "\n",
        "    # if string length 1\n",
        "    if len(s) == 1:\n",
        "        return 1\n",
        "\n",
        "    # if string length is more than 1\n",
        "    maxLength = 0\n",
        "    visited = [False] * 256\n",
        "\n",
        "    # left and right pointer of sliding window\n",
        "    left = 0\n",
        "    right = 0\n",
        "    while right < len(s):\n",
        "\n",
        "        # If the character is repeated, move left pointer\n",
        "        # to the right and mark visited characters as false\n",
        "        # until the repeating character is no longer part\n",
        "        # of the current window.\n",
        "        while visited[ord(s[right])] == True:\n",
        "            visited[ord(s[left])] = False\n",
        "            left += 1\n",
        "\n",
        "        visited[ord(s[right])] = True\n",
        "\n",
        "        # The length of the current window (right - left + 1)\n",
        "        # is calculated and answer is updated accordingly.\n",
        "        maxLength = max(maxLength, right - left + 1)\n",
        "        right += 1\n",
        "\n",
        "    return maxLength\n",
        "\n",
        "if __name__ == \"__main__\":\n",
        "    s = \"abadgdg\"\n",
        "    print(longestUniqueSubstr(s))"
      ]
    },
    {
      "cell_type": "code",
      "source": [
        "if len(fullString) == 0:\n",
        "        return 0\n",
        "\n",
        "    if len(fullString) == 1:\n",
        "        return 1\n",
        "\n",
        "    max_len = 0\n",
        "    visited = [False] * 256\n",
        "\n",
        "    left = 0\n",
        "    right = 0\n",
        "\n",
        "    while right < len(fullString):\n",
        "        while visited[ord(fullString[right])] == True:\n",
        "            visited[ord(fullString[left])] = False\n",
        "            left += 1\n",
        "\n",
        "        visited[ord(fullString[right])] = True\n",
        "\n",
        "        max_len = max(max_len, right - left +1)\n",
        "        right == 1\n",
        "\n",
        "    return max_len"
      ],
      "metadata": {
        "colab": {
          "base_uri": "https://localhost:8080/",
          "height": 110
        },
        "id": "Vs53ohAJnJvD",
        "outputId": "7e3819f1-4a8a-482f-f26a-b29f169f39ab"
      },
      "execution_count": 4,
      "outputs": [
        {
          "output_type": "error",
          "ename": "IndentationError",
          "evalue": "unindent does not match any outer indentation level (<tokenize>, line 4)",
          "traceback": [
            "\u001b[0;36m  File \u001b[0;32m\"<tokenize>\"\u001b[0;36m, line \u001b[0;32m4\u001b[0m\n\u001b[0;31m    if len(fullString) == 1:\u001b[0m\n\u001b[0m    ^\u001b[0m\n\u001b[0;31mIndentationError\u001b[0m\u001b[0;31m:\u001b[0m unindent does not match any outer indentation level\n"
          ]
        }
      ]
    },
    {
      "cell_type": "code",
      "source": [
        "def findLongestLength(fullString):\n",
        "    if len(fullString) == 0:\n",
        "        return 0\n",
        "\n",
        "    if len(fullString) == 1:\n",
        "        return 1\n",
        "\n",
        "    max_len = 0\n",
        "    visited = [False] * 256\n",
        "\n",
        "    left = 0\n",
        "    right = 0\n",
        "\n",
        "    while right < len(fullString):\n",
        "        while visited[ord(fullString[right])] == True:\n",
        "            visited[ord(fullString[left])] = False\n",
        "            left += 1\n",
        "\n",
        "        visited[ord(fullString[right])] = True\n",
        "\n",
        "        max_len = max(max_len, right - left + 1)\n",
        "        right += 1  # Corrected increment\n",
        "\n",
        "    return max_len\n"
      ],
      "metadata": {
        "id": "pixBM8YvpBWu"
      },
      "execution_count": 5,
      "outputs": []
    },
    {
      "cell_type": "code",
      "source": [
        "def longestUniqueSubstr(s):\n",
        "    n = len(s)\n",
        "    res = 0\n",
        "\n",
        "    for i in range(n):\n",
        "\n",
        "        # Initializing all characters as not visited\n",
        "        visited = [False] * 256\n",
        "\n",
        "        for j in range(i, n):\n",
        "\n",
        "            # If current character is visited\n",
        "            # Break the loop\n",
        "            if visited[ord(s[j])] == True:\n",
        "                break\n",
        "\n",
        "            # Else update the result if this window is larger,\n",
        "            # and mark current character as visited.\n",
        "            else:\n",
        "                res = max(res, j - i + 1)\n",
        "                visited[ord(s[j])] = True\n",
        "\n",
        "    return res\n",
        "\n",
        "if __name__ == \"__main__\":\n",
        "    s = \"amazonservices\"\n",
        "    print(longestUniqueSubstr(s))"
      ],
      "metadata": {
        "colab": {
          "base_uri": "https://localhost:8080/"
        },
        "id": "wuuZITQipg84",
        "outputId": "89099598-7019-42ca-d879-3800063724f0"
      },
      "execution_count": 6,
      "outputs": [
        {
          "output_type": "stream",
          "name": "stdout",
          "text": [
            "11\n"
          ]
        }
      ]
    },
    {
      "cell_type": "code",
      "source": [
        "def lengthOfLongestSubstring(s):\n",
        "    chars = [None] * 128\n",
        "\n",
        "    left = 0\n",
        "    right = 0\n",
        "\n",
        "    res = 0\n",
        "    while right < len(s):\n",
        "        r = s[right]\n",
        "\n",
        "        # If character r has appeared previously and its index is within the current window\n",
        "        if chars[ord(r)] is not None and chars[ord(r)] >= left and chars[ord(r)] < right:\n",
        "            left = chars[ord(r)] + 1\n",
        "\n",
        "        # Update the result with the maximum length of the current window\n",
        "        res = max(res, right - left + 1)\n",
        "\n",
        "        # Update the last index of character r\n",
        "        chars[ord(r)] = right\n",
        "        right += 1\n",
        "\n",
        "    return res\n",
        "\n",
        "lengthOfLongestSubstring('abadgdg')"
      ],
      "metadata": {
        "colab": {
          "base_uri": "https://localhost:8080/"
        },
        "id": "6lXLZykGpmKx",
        "outputId": "4881a749-07a8-483d-eec4-c8983f3d284a"
      },
      "execution_count": 10,
      "outputs": [
        {
          "output_type": "execute_result",
          "data": {
            "text/plain": [
              "4"
            ]
          },
          "metadata": {},
          "execution_count": 10
        }
      ]
    },
    {
      "cell_type": "code",
      "source": [],
      "metadata": {
        "id": "U6iQ_cd0qt-o"
      },
      "execution_count": null,
      "outputs": []
    }
  ]
}